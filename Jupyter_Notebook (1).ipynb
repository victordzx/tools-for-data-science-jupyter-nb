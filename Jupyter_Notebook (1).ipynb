{
  "metadata": {
    "kernelspec": {
      "name": "python",
      "display_name": "Pyolite",
      "language": "python"
    },
    "language_info": {
      "codemirror_mode": {
        "name": "python",
        "version": 3
      },
      "file_extension": ".py",
      "mimetype": "text/x-python",
      "name": "python",
      "nbconvert_exporter": "python",
      "pygments_lexer": "ipython3",
      "version": "3.8"
    }
  },
  "nbformat_minor": 4,
  "nbformat": 4,
  "cells": [
    {
      "cell_type": "markdown",
      "source": "<center>\n    <img src=\"https://s3-api.us-geo.objectstorage.softlayer.net/cf-courses-data/CognitiveClass/Logos/organization_logo/organization_logo.png\" width=\"300\" alt=\"cognitiveclass.ai logo\"  />\n</center>\n",
      "metadata": {}
    },
    {
      "cell_type": "markdown",
      "source": "#### Add your code below following the instructions given in the course\n",
      "metadata": {}
    },
    {
      "cell_type": "markdown",
      "source": "# My Jupyter Notebook on IBM Watson Studio",
      "metadata": {}
    },
    {
      "cell_type": "markdown",
      "source": "**Victor Manuel Diaz Arbulu**\nTelecommunications engineering student",
      "metadata": {}
    },
    {
      "cell_type": "markdown",
      "source": "*I'm interested in data science because I would like to provide solutions based on data to businesses.\nAlso, I want businesses to provide better results to clients. There's when data science comes in.*",
      "metadata": {}
    },
    {
      "cell_type": "markdown",
      "source": "### In cell 5, my code is supposed to be executed and to display an output.",
      "metadata": {}
    },
    {
      "cell_type": "code",
      "source": "a = [2,4]\nb = [3,6]\nc = [0,0]\nfor i in range(len(c)):\n    c[i] = a[i] * b[i]\n    \nprint(c)",
      "metadata": {
        "trusted": true
      },
      "execution_count": 15,
      "outputs": [
        {
          "name": "stdout",
          "text": "[6, 24]\n",
          "output_type": "stream"
        }
      ]
    },
    {
      "cell_type": "markdown",
      "source": "Horizontal rule\n\n-------------------------\n1. Numbered\n2. List\n3. xxxxxxxxx\n-------------------------\n* Bulleted\n+ List\n-------------------------\n<a href=\"www.google.com\">Hyperlink (Google)</a>",
      "metadata": {}
    },
    {
      "cell_type": "code",
      "source": "",
      "metadata": {},
      "execution_count": null,
      "outputs": []
    }
  ]
}